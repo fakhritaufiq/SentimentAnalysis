{
  "nbformat": 4,
  "nbformat_minor": 0,
  "metadata": {
    "colab": {
      "name": "Basdat Sentiment Analysis.ipynb",
      "provenance": [],
      "collapsed_sections": []
    },
    "kernelspec": {
      "name": "python3",
      "display_name": "Python 3"
    }
  },
  "cells": [
    {
      "cell_type": "code",
      "metadata": {
        "id": "xMNZGhKOWiTs",
        "colab_type": "code",
        "outputId": "dbbef86e-1f52-49ab-d010-3a58d0c8551d",
        "colab": {
          "base_uri": "https://localhost:8080/",
          "height": 35
        }
      },
      "source": [
        "%tensorflow_version 2.x"
      ],
      "execution_count": 0,
      "outputs": [
        {
          "output_type": "stream",
          "text": [
            "TensorFlow 2.x selected.\n"
          ],
          "name": "stdout"
        }
      ]
    },
    {
      "cell_type": "code",
      "metadata": {
        "id": "kWxsGSShh36a",
        "colab_type": "code",
        "colab": {}
      },
      "source": [
        "import numpy as np # linear algebra\n",
        "import pandas as pd # data processing, CSV file I/O (e.g. pd.read_csv)\n",
        "\n",
        "from sklearn.feature_extraction.text import CountVectorizer\n",
        "from tensorflow.keras.preprocessing.text import Tokenizer\n",
        "from tensorflow.keras.preprocessing.sequence import pad_sequences\n",
        "from tensorflow.keras.models import Sequential\n",
        "from tensorflow.keras.layers import Dense, Embedding, LSTM, SpatialDropout1D, Dropout\n",
        "from sklearn.model_selection import train_test_split\n",
        "from tensorflow.keras.utils import to_categorical"
      ],
      "execution_count": 0,
      "outputs": []
    },
    {
      "cell_type": "code",
      "metadata": {
        "id": "4Y-p8xjHh6bE",
        "colab_type": "code",
        "colab": {}
      },
      "source": [
        "data = pd.read_csv(\"indo_dataset.csv\")"
      ],
      "execution_count": 0,
      "outputs": []
    },
    {
      "cell_type": "code",
      "metadata": {
        "id": "hqtFhczDsbR7",
        "colab_type": "code",
        "outputId": "95121a51-4f96-4201-9668-897c6177cc23",
        "colab": {
          "base_uri": "https://localhost:8080/",
          "height": 87
        }
      },
      "source": [
        "data.iloc[0]"
      ],
      "execution_count": 0,
      "outputs": [
        {
          "output_type": "execute_result",
          "data": {
            "text/plain": [
              "index                                                       0\n",
              "sentimen                                                    0\n",
              "Tweet       lagu bosan apa yang aku save ni huhuhuhuhuhuhu...\n",
              "Name: 0, dtype: object"
            ]
          },
          "metadata": {
            "tags": []
          },
          "execution_count": 63
        }
      ]
    },
    {
      "cell_type": "code",
      "metadata": {
        "id": "XxLSYJcBiwB-",
        "colab_type": "code",
        "colab": {}
      },
      "source": [
        "max_fatures = 2500\n",
        "tokenizer = Tokenizer(num_words=max_fatures, split=' ')\n",
        "tokenizer.fit_on_texts(data['Tweet'].values)"
      ],
      "execution_count": 0,
      "outputs": []
    },
    {
      "cell_type": "code",
      "metadata": {
        "id": "ghxMFn_4i0ZW",
        "colab_type": "code",
        "colab": {}
      },
      "source": [
        "X = tokenizer.texts_to_sequences(data['Tweet'].values)"
      ],
      "execution_count": 0,
      "outputs": []
    },
    {
      "cell_type": "code",
      "metadata": {
        "id": "EbWHIeDissj5",
        "colab_type": "code",
        "outputId": "ce8b81b3-b479-4f67-a520-cbed5b3672e5",
        "colab": {
          "base_uri": "https://localhost:8080/",
          "height": 69
        }
      },
      "source": [
        "X[0]"
      ],
      "execution_count": 0,
      "outputs": [
        {
          "output_type": "execute_result",
          "data": {
            "text/plain": [
              "array([   0,    0,    0,    0,    0,    0,    0,    0,    0,    0,    0,\n",
              "          0,    0,    0,    0,    0,    0,    0,  629,  983,   15,    3,\n",
              "          1, 1735,   17], dtype=int32)"
            ]
          },
          "metadata": {
            "tags": []
          },
          "execution_count": 64
        }
      ]
    },
    {
      "cell_type": "code",
      "metadata": {
        "id": "f5wUMom5j_H5",
        "colab_type": "code",
        "colab": {}
      },
      "source": [
        "X = pad_sequences(X)"
      ],
      "execution_count": 0,
      "outputs": []
    },
    {
      "cell_type": "code",
      "metadata": {
        "id": "pIl2Pplqp8Pa",
        "colab_type": "code",
        "colab": {}
      },
      "source": [
        "Y = pd.get_dummies(data['sentimen']).values"
      ],
      "execution_count": 0,
      "outputs": []
    },
    {
      "cell_type": "code",
      "metadata": {
        "id": "16eVoAwHqBVN",
        "colab_type": "code",
        "colab": {}
      },
      "source": [
        "X_train, X_test, Y_train, Y_test = train_test_split(X,Y, test_size = 0.33, random_state = 42)"
      ],
      "execution_count": 0,
      "outputs": []
    },
    {
      "cell_type": "code",
      "metadata": {
        "id": "v8IYqRR4lLO4",
        "colab_type": "code",
        "outputId": "525b6809-2c1e-437b-caee-2d3fc479795b",
        "colab": {
          "base_uri": "https://localhost:8080/",
          "height": 381
        }
      },
      "source": [
        "embed_dim = 128\n",
        "\n",
        "model = Sequential()\n",
        "model.add(Embedding(max_fatures, embed_dim,input_length = X.shape[1]))\n",
        "model.add(LSTM(256, ))\n",
        "model.add(Dropout(0.5))\n",
        "model.add(Dense(64, activation='relu'))\n",
        "model.add(Dropout(0.5))\n",
        "model.add(Dense(2, activation='softmax'))\n",
        "model.compile(loss = 'categorical_crossentropy', optimizer='adam',metrics = ['accuracy'])\n",
        "print(model.summary())"
      ],
      "execution_count": 0,
      "outputs": [
        {
          "output_type": "stream",
          "text": [
            "Model: \"sequential_11\"\n",
            "_________________________________________________________________\n",
            "Layer (type)                 Output Shape              Param #   \n",
            "=================================================================\n",
            "embedding_14 (Embedding)     (None, 25, 128)           320000    \n",
            "_________________________________________________________________\n",
            "lstm_13 (LSTM)               (None, 256)               394240    \n",
            "_________________________________________________________________\n",
            "dropout_3 (Dropout)          (None, 256)               0         \n",
            "_________________________________________________________________\n",
            "dense_17 (Dense)             (None, 64)                16448     \n",
            "_________________________________________________________________\n",
            "dropout_4 (Dropout)          (None, 64)                0         \n",
            "_________________________________________________________________\n",
            "dense_18 (Dense)             (None, 2)                 130       \n",
            "=================================================================\n",
            "Total params: 730,818\n",
            "Trainable params: 730,818\n",
            "Non-trainable params: 0\n",
            "_________________________________________________________________\n",
            "None\n"
          ],
          "name": "stdout"
        }
      ]
    },
    {
      "cell_type": "code",
      "metadata": {
        "id": "Tt5DRDaAm9nW",
        "colab_type": "code",
        "outputId": "02aa770f-4c69-4211-9724-b2e201b07962",
        "colab": {
          "base_uri": "https://localhost:8080/",
          "height": 419
        }
      },
      "source": [
        "batch_size = 32\n",
        "model.fit(X_train, Y_train, validation_data=(X_test, Y_test), epochs = 10, batch_size=batch_size)"
      ],
      "execution_count": 0,
      "outputs": [
        {
          "output_type": "stream",
          "text": [
            "Train on 3670 samples, validate on 1809 samples\n",
            "Epoch 1/10\n",
            "3670/3670 [==============================] - 16s 4ms/sample - loss: 0.6692 - accuracy: 0.5891 - val_loss: 0.6025 - val_accuracy: 0.6893\n",
            "Epoch 2/10\n",
            "3670/3670 [==============================] - 14s 4ms/sample - loss: 0.4782 - accuracy: 0.7907 - val_loss: 0.5734 - val_accuracy: 0.7098\n",
            "Epoch 3/10\n",
            "3670/3670 [==============================] - 14s 4ms/sample - loss: 0.3408 - accuracy: 0.8575 - val_loss: 0.6345 - val_accuracy: 0.7137\n",
            "Epoch 4/10\n",
            "3670/3670 [==============================] - 14s 4ms/sample - loss: 0.2520 - accuracy: 0.8997 - val_loss: 0.7811 - val_accuracy: 0.7197\n",
            "Epoch 5/10\n",
            "3670/3670 [==============================] - 13s 4ms/sample - loss: 0.1834 - accuracy: 0.9259 - val_loss: 0.9790 - val_accuracy: 0.7236\n",
            "Epoch 6/10\n",
            "3670/3670 [==============================] - 14s 4ms/sample - loss: 0.1450 - accuracy: 0.9447 - val_loss: 1.3168 - val_accuracy: 0.7120\n",
            "Epoch 7/10\n",
            "3670/3670 [==============================] - 13s 4ms/sample - loss: 0.1012 - accuracy: 0.9567 - val_loss: 1.7157 - val_accuracy: 0.7258\n",
            "Epoch 8/10\n",
            "3670/3670 [==============================] - 13s 4ms/sample - loss: 0.0835 - accuracy: 0.9638 - val_loss: 1.8363 - val_accuracy: 0.7214\n",
            "Epoch 9/10\n",
            "3670/3670 [==============================] - 13s 4ms/sample - loss: 0.0731 - accuracy: 0.9703 - val_loss: 1.7438 - val_accuracy: 0.7032\n",
            "Epoch 10/10\n",
            "3670/3670 [==============================] - 14s 4ms/sample - loss: 0.0665 - accuracy: 0.9703 - val_loss: 2.0735 - val_accuracy: 0.7004\n"
          ],
          "name": "stdout"
        },
        {
          "output_type": "execute_result",
          "data": {
            "text/plain": [
              "<tensorflow.python.keras.callbacks.History at 0x7fd212ef0c18>"
            ]
          },
          "metadata": {
            "tags": []
          },
          "execution_count": 78
        }
      ]
    },
    {
      "cell_type": "code",
      "metadata": {
        "id": "ux05lQssqX1N",
        "colab_type": "code",
        "colab": {}
      },
      "source": [
        "X_T = tokenizer.texts_to_sequences(np.array([\"saya benci baso\", \"saya suka baso\"]))\n",
        "X_T = pad_sequences(X_T, maxlen=25)"
      ],
      "execution_count": 0,
      "outputs": []
    },
    {
      "cell_type": "code",
      "metadata": {
        "id": "JtZRIiv-rPdD",
        "colab_type": "code",
        "outputId": "ea154aaf-fb9f-4321-c276-8d2a1522ade3",
        "colab": {
          "base_uri": "https://localhost:8080/",
          "height": 52
        }
      },
      "source": [
        "for d in np.argmax(model.predict(X_T), axis=0):\n",
        "  print([\"Negativ\", \"Positif\"][d])"
      ],
      "execution_count": 0,
      "outputs": [
        {
          "output_type": "stream",
          "text": [
            "Negativ\n",
            "Positif\n"
          ],
          "name": "stdout"
        }
      ]
    },
    {
      "cell_type": "code",
      "metadata": {
        "id": "PiXmDIrQrvDz",
        "colab_type": "code",
        "colab": {}
      },
      "source": [
        "model.save_weights('lstm.h5')"
      ],
      "execution_count": 0,
      "outputs": []
    },
    {
      "cell_type": "code",
      "metadata": {
        "id": "sQvJKOY4trjO",
        "colab_type": "code",
        "outputId": "2e84be28-18f3-4325-c3cb-102e678ee431",
        "colab": {
          "base_uri": "https://localhost:8080/",
          "height": 312
        }
      },
      "source": [
        "model2 = Sequential()\n",
        "model2.add(Embedding(max_fatures, embed_dim,input_length = X.shape[1]))\n",
        "model2.add(LSTM(256))\n",
        "model2.add(Dense(64, activation='relu'))\n",
        "model2.add(Dense(2, activation='softmax'))\n",
        "model2.compile(loss = 'categorical_crossentropy', optimizer='adam',metrics = ['accuracy'])\n",
        "print(model2.summary())"
      ],
      "execution_count": 0,
      "outputs": [
        {
          "output_type": "stream",
          "text": [
            "Model: \"sequential_9\"\n",
            "_________________________________________________________________\n",
            "Layer (type)                 Output Shape              Param #   \n",
            "=================================================================\n",
            "embedding_12 (Embedding)     (None, 25, 128)           320000    \n",
            "_________________________________________________________________\n",
            "lstm_11 (LSTM)               (None, 256)               394240    \n",
            "_________________________________________________________________\n",
            "dense_13 (Dense)             (None, 64)                16448     \n",
            "_________________________________________________________________\n",
            "dense_14 (Dense)             (None, 2)                 130       \n",
            "=================================================================\n",
            "Total params: 730,818\n",
            "Trainable params: 730,818\n",
            "Non-trainable params: 0\n",
            "_________________________________________________________________\n",
            "None\n"
          ],
          "name": "stdout"
        }
      ]
    },
    {
      "cell_type": "code",
      "metadata": {
        "id": "z7-Yc8QityHX",
        "colab_type": "code",
        "colab": {}
      },
      "source": [
        "model2.load_weights('lstm.h5')"
      ],
      "execution_count": 0,
      "outputs": []
    },
    {
      "cell_type": "code",
      "metadata": {
        "id": "fGCTezget1UL",
        "colab_type": "code",
        "outputId": "eca02a89-e558-4f91-e3cb-a8881008216d",
        "colab": {
          "base_uri": "https://localhost:8080/",
          "height": 52
        }
      },
      "source": [
        "for d in np.argmax(model2.predict(X_T), axis=0):\n",
        "  print([\"Negativ\", \"Positif\"][d])"
      ],
      "execution_count": 0,
      "outputs": [
        {
          "output_type": "stream",
          "text": [
            "Negativ\n",
            "Positif\n"
          ],
          "name": "stdout"
        }
      ]
    },
    {
      "cell_type": "code",
      "metadata": {
        "id": "wUC1SXzCt5ma",
        "colab_type": "code",
        "colab": {}
      },
      "source": [
        ""
      ],
      "execution_count": 0,
      "outputs": []
    }
  ]
}